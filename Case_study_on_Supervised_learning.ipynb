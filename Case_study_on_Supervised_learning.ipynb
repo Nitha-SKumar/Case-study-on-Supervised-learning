{
  "nbformat": 4,
  "nbformat_minor": 0,
  "metadata": {
    "colab": {
      "name": "Case study on Supervised learning.ipynb",
      "provenance": [],
      "collapsed_sections": []
    },
    "kernelspec": {
      "name": "python3",
      "display_name": "Python 3"
    },
    "language_info": {
      "name": "python"
    }
  },
  "cells": [
    {
      "cell_type": "markdown",
      "source": [
        "Case study on Supervised learning\n",
        "Do the following in the iris dataset.\n",
        "1. Read the dataset to the python environment.\n",
        "2. Do necessary pre-processing steps.\n",
        "3. Find out which classification model gives the best result to predict iris\n",
        "species.(also do random forest algorithm)"
      ],
      "metadata": {
        "id": "ZCAlvdoKo3FZ"
      }
    },
    {
      "cell_type": "markdown",
      "source": [
        "# Importing the Libraries"
      ],
      "metadata": {
        "id": "XbByOcOHQjyK"
      }
    },
    {
      "cell_type": "code",
      "source": [
        "import numpy as np\n",
        "import pandas as pd\n",
        "import seaborn as sns\n",
        "import matplotlib.pyplot as plt"
      ],
      "metadata": {
        "id": "00j7q9Nvo9zL"
      },
      "execution_count": 887,
      "outputs": []
    },
    {
      "cell_type": "markdown",
      "source": [
        "#1.Read the dataset to the python environment."
      ],
      "metadata": {
        "id": "0rfWtwCvQvko"
      }
    },
    {
      "cell_type": "code",
      "source": [
        "iris_Data=pd.read_excel('/content/iris.xls')"
      ],
      "metadata": {
        "id": "VOzVAexapFH5"
      },
      "execution_count": 888,
      "outputs": []
    },
    {
      "cell_type": "code",
      "source": [
        "iris_Data.head()"
      ],
      "metadata": {
        "colab": {
          "base_uri": "https://localhost:8080/",
          "height": 206
        },
        "id": "U-Elj-JWpj1q",
        "outputId": "b2ed0f15-8e74-473b-f898-5e3d75d89371"
      },
      "execution_count": 889,
      "outputs": [
        {
          "output_type": "execute_result",
          "data": {
            "text/html": [
              "\n",
              "  <div id=\"df-692c5524-b3f2-486e-a639-d9f3de44dc83\">\n",
              "    <div class=\"colab-df-container\">\n",
              "      <div>\n",
              "<style scoped>\n",
              "    .dataframe tbody tr th:only-of-type {\n",
              "        vertical-align: middle;\n",
              "    }\n",
              "\n",
              "    .dataframe tbody tr th {\n",
              "        vertical-align: top;\n",
              "    }\n",
              "\n",
              "    .dataframe thead th {\n",
              "        text-align: right;\n",
              "    }\n",
              "</style>\n",
              "<table border=\"1\" class=\"dataframe\">\n",
              "  <thead>\n",
              "    <tr style=\"text-align: right;\">\n",
              "      <th></th>\n",
              "      <th>SL</th>\n",
              "      <th>SW</th>\n",
              "      <th>PL</th>\n",
              "      <th>PW</th>\n",
              "      <th>Classification</th>\n",
              "    </tr>\n",
              "  </thead>\n",
              "  <tbody>\n",
              "    <tr>\n",
              "      <th>0</th>\n",
              "      <td>5.1</td>\n",
              "      <td>3.5</td>\n",
              "      <td>1.4</td>\n",
              "      <td>0.2</td>\n",
              "      <td>Iris-setosa</td>\n",
              "    </tr>\n",
              "    <tr>\n",
              "      <th>1</th>\n",
              "      <td>4.9</td>\n",
              "      <td>3.0</td>\n",
              "      <td>1.4</td>\n",
              "      <td>0.2</td>\n",
              "      <td>Iris-setosa</td>\n",
              "    </tr>\n",
              "    <tr>\n",
              "      <th>2</th>\n",
              "      <td>NaN</td>\n",
              "      <td>3.2</td>\n",
              "      <td>1.3</td>\n",
              "      <td>0.2</td>\n",
              "      <td>Iris-setosa</td>\n",
              "    </tr>\n",
              "    <tr>\n",
              "      <th>3</th>\n",
              "      <td>4.6</td>\n",
              "      <td>3.1</td>\n",
              "      <td>1.5</td>\n",
              "      <td>0.2</td>\n",
              "      <td>Iris-setosa</td>\n",
              "    </tr>\n",
              "    <tr>\n",
              "      <th>4</th>\n",
              "      <td>5.0</td>\n",
              "      <td>3.6</td>\n",
              "      <td>1.4</td>\n",
              "      <td>0.2</td>\n",
              "      <td>Iris-setosa</td>\n",
              "    </tr>\n",
              "  </tbody>\n",
              "</table>\n",
              "</div>\n",
              "      <button class=\"colab-df-convert\" onclick=\"convertToInteractive('df-692c5524-b3f2-486e-a639-d9f3de44dc83')\"\n",
              "              title=\"Convert this dataframe to an interactive table.\"\n",
              "              style=\"display:none;\">\n",
              "        \n",
              "  <svg xmlns=\"http://www.w3.org/2000/svg\" height=\"24px\"viewBox=\"0 0 24 24\"\n",
              "       width=\"24px\">\n",
              "    <path d=\"M0 0h24v24H0V0z\" fill=\"none\"/>\n",
              "    <path d=\"M18.56 5.44l.94 2.06.94-2.06 2.06-.94-2.06-.94-.94-2.06-.94 2.06-2.06.94zm-11 1L8.5 8.5l.94-2.06 2.06-.94-2.06-.94L8.5 2.5l-.94 2.06-2.06.94zm10 10l.94 2.06.94-2.06 2.06-.94-2.06-.94-.94-2.06-.94 2.06-2.06.94z\"/><path d=\"M17.41 7.96l-1.37-1.37c-.4-.4-.92-.59-1.43-.59-.52 0-1.04.2-1.43.59L10.3 9.45l-7.72 7.72c-.78.78-.78 2.05 0 2.83L4 21.41c.39.39.9.59 1.41.59.51 0 1.02-.2 1.41-.59l7.78-7.78 2.81-2.81c.8-.78.8-2.07 0-2.86zM5.41 20L4 18.59l7.72-7.72 1.47 1.35L5.41 20z\"/>\n",
              "  </svg>\n",
              "      </button>\n",
              "      \n",
              "  <style>\n",
              "    .colab-df-container {\n",
              "      display:flex;\n",
              "      flex-wrap:wrap;\n",
              "      gap: 12px;\n",
              "    }\n",
              "\n",
              "    .colab-df-convert {\n",
              "      background-color: #E8F0FE;\n",
              "      border: none;\n",
              "      border-radius: 50%;\n",
              "      cursor: pointer;\n",
              "      display: none;\n",
              "      fill: #1967D2;\n",
              "      height: 32px;\n",
              "      padding: 0 0 0 0;\n",
              "      width: 32px;\n",
              "    }\n",
              "\n",
              "    .colab-df-convert:hover {\n",
              "      background-color: #E2EBFA;\n",
              "      box-shadow: 0px 1px 2px rgba(60, 64, 67, 0.3), 0px 1px 3px 1px rgba(60, 64, 67, 0.15);\n",
              "      fill: #174EA6;\n",
              "    }\n",
              "\n",
              "    [theme=dark] .colab-df-convert {\n",
              "      background-color: #3B4455;\n",
              "      fill: #D2E3FC;\n",
              "    }\n",
              "\n",
              "    [theme=dark] .colab-df-convert:hover {\n",
              "      background-color: #434B5C;\n",
              "      box-shadow: 0px 1px 3px 1px rgba(0, 0, 0, 0.15);\n",
              "      filter: drop-shadow(0px 1px 2px rgba(0, 0, 0, 0.3));\n",
              "      fill: #FFFFFF;\n",
              "    }\n",
              "  </style>\n",
              "\n",
              "      <script>\n",
              "        const buttonEl =\n",
              "          document.querySelector('#df-692c5524-b3f2-486e-a639-d9f3de44dc83 button.colab-df-convert');\n",
              "        buttonEl.style.display =\n",
              "          google.colab.kernel.accessAllowed ? 'block' : 'none';\n",
              "\n",
              "        async function convertToInteractive(key) {\n",
              "          const element = document.querySelector('#df-692c5524-b3f2-486e-a639-d9f3de44dc83');\n",
              "          const dataTable =\n",
              "            await google.colab.kernel.invokeFunction('convertToInteractive',\n",
              "                                                     [key], {});\n",
              "          if (!dataTable) return;\n",
              "\n",
              "          const docLinkHtml = 'Like what you see? Visit the ' +\n",
              "            '<a target=\"_blank\" href=https://colab.research.google.com/notebooks/data_table.ipynb>data table notebook</a>'\n",
              "            + ' to learn more about interactive tables.';\n",
              "          element.innerHTML = '';\n",
              "          dataTable['output_type'] = 'display_data';\n",
              "          await google.colab.output.renderOutput(dataTable, element);\n",
              "          const docLink = document.createElement('div');\n",
              "          docLink.innerHTML = docLinkHtml;\n",
              "          element.appendChild(docLink);\n",
              "        }\n",
              "      </script>\n",
              "    </div>\n",
              "  </div>\n",
              "  "
            ],
            "text/plain": [
              "    SL   SW   PL   PW Classification\n",
              "0  5.1  3.5  1.4  0.2    Iris-setosa\n",
              "1  4.9  3.0  1.4  0.2    Iris-setosa\n",
              "2  NaN  3.2  1.3  0.2    Iris-setosa\n",
              "3  4.6  3.1  1.5  0.2    Iris-setosa\n",
              "4  5.0  3.6  1.4  0.2    Iris-setosa"
            ]
          },
          "metadata": {},
          "execution_count": 889
        }
      ]
    },
    {
      "cell_type": "code",
      "source": [
        "iris_Data.shape"
      ],
      "metadata": {
        "colab": {
          "base_uri": "https://localhost:8080/"
        },
        "id": "CdRgZZHpps1R",
        "outputId": "097107a6-9446-4781-ab9e-2bf49a64b1b7"
      },
      "execution_count": 890,
      "outputs": [
        {
          "output_type": "execute_result",
          "data": {
            "text/plain": [
              "(150, 5)"
            ]
          },
          "metadata": {},
          "execution_count": 890
        }
      ]
    },
    {
      "cell_type": "code",
      "source": [
        "iris_Data.info()"
      ],
      "metadata": {
        "colab": {
          "base_uri": "https://localhost:8080/"
        },
        "id": "XuRZ8YCLQ6H1",
        "outputId": "6ab67543-79da-4d6f-a0f3-fb88466f69de"
      },
      "execution_count": 891,
      "outputs": [
        {
          "output_type": "stream",
          "name": "stdout",
          "text": [
            "<class 'pandas.core.frame.DataFrame'>\n",
            "RangeIndex: 150 entries, 0 to 149\n",
            "Data columns (total 5 columns):\n",
            " #   Column          Non-Null Count  Dtype  \n",
            "---  ------          --------------  -----  \n",
            " 0   SL              143 non-null    float64\n",
            " 1   SW              144 non-null    float64\n",
            " 2   PL              144 non-null    float64\n",
            " 3   PW              150 non-null    float64\n",
            " 4   Classification  150 non-null    object \n",
            "dtypes: float64(4), object(1)\n",
            "memory usage: 6.0+ KB\n"
          ]
        }
      ]
    },
    {
      "cell_type": "code",
      "source": [
        "iris_Data.tail()"
      ],
      "metadata": {
        "colab": {
          "base_uri": "https://localhost:8080/",
          "height": 206
        },
        "id": "17Ln55Knp1k2",
        "outputId": "6cda240a-0b91-4df8-fe60-963a1ad6402a"
      },
      "execution_count": 892,
      "outputs": [
        {
          "output_type": "execute_result",
          "data": {
            "text/html": [
              "\n",
              "  <div id=\"df-9ff5a41b-bfac-4be3-b396-dfcae7073b7f\">\n",
              "    <div class=\"colab-df-container\">\n",
              "      <div>\n",
              "<style scoped>\n",
              "    .dataframe tbody tr th:only-of-type {\n",
              "        vertical-align: middle;\n",
              "    }\n",
              "\n",
              "    .dataframe tbody tr th {\n",
              "        vertical-align: top;\n",
              "    }\n",
              "\n",
              "    .dataframe thead th {\n",
              "        text-align: right;\n",
              "    }\n",
              "</style>\n",
              "<table border=\"1\" class=\"dataframe\">\n",
              "  <thead>\n",
              "    <tr style=\"text-align: right;\">\n",
              "      <th></th>\n",
              "      <th>SL</th>\n",
              "      <th>SW</th>\n",
              "      <th>PL</th>\n",
              "      <th>PW</th>\n",
              "      <th>Classification</th>\n",
              "    </tr>\n",
              "  </thead>\n",
              "  <tbody>\n",
              "    <tr>\n",
              "      <th>145</th>\n",
              "      <td>6.7</td>\n",
              "      <td>3.0</td>\n",
              "      <td>5.2</td>\n",
              "      <td>2.3</td>\n",
              "      <td>Iris-virginica</td>\n",
              "    </tr>\n",
              "    <tr>\n",
              "      <th>146</th>\n",
              "      <td>6.3</td>\n",
              "      <td>2.5</td>\n",
              "      <td>5.0</td>\n",
              "      <td>1.9</td>\n",
              "      <td>Iris-virginica</td>\n",
              "    </tr>\n",
              "    <tr>\n",
              "      <th>147</th>\n",
              "      <td>6.5</td>\n",
              "      <td>3.0</td>\n",
              "      <td>NaN</td>\n",
              "      <td>2.0</td>\n",
              "      <td>Iris-virginica</td>\n",
              "    </tr>\n",
              "    <tr>\n",
              "      <th>148</th>\n",
              "      <td>6.2</td>\n",
              "      <td>3.4</td>\n",
              "      <td>5.4</td>\n",
              "      <td>2.3</td>\n",
              "      <td>Iris-virginica</td>\n",
              "    </tr>\n",
              "    <tr>\n",
              "      <th>149</th>\n",
              "      <td>5.9</td>\n",
              "      <td>3.0</td>\n",
              "      <td>5.1</td>\n",
              "      <td>1.8</td>\n",
              "      <td>Iris-virginica</td>\n",
              "    </tr>\n",
              "  </tbody>\n",
              "</table>\n",
              "</div>\n",
              "      <button class=\"colab-df-convert\" onclick=\"convertToInteractive('df-9ff5a41b-bfac-4be3-b396-dfcae7073b7f')\"\n",
              "              title=\"Convert this dataframe to an interactive table.\"\n",
              "              style=\"display:none;\">\n",
              "        \n",
              "  <svg xmlns=\"http://www.w3.org/2000/svg\" height=\"24px\"viewBox=\"0 0 24 24\"\n",
              "       width=\"24px\">\n",
              "    <path d=\"M0 0h24v24H0V0z\" fill=\"none\"/>\n",
              "    <path d=\"M18.56 5.44l.94 2.06.94-2.06 2.06-.94-2.06-.94-.94-2.06-.94 2.06-2.06.94zm-11 1L8.5 8.5l.94-2.06 2.06-.94-2.06-.94L8.5 2.5l-.94 2.06-2.06.94zm10 10l.94 2.06.94-2.06 2.06-.94-2.06-.94-.94-2.06-.94 2.06-2.06.94z\"/><path d=\"M17.41 7.96l-1.37-1.37c-.4-.4-.92-.59-1.43-.59-.52 0-1.04.2-1.43.59L10.3 9.45l-7.72 7.72c-.78.78-.78 2.05 0 2.83L4 21.41c.39.39.9.59 1.41.59.51 0 1.02-.2 1.41-.59l7.78-7.78 2.81-2.81c.8-.78.8-2.07 0-2.86zM5.41 20L4 18.59l7.72-7.72 1.47 1.35L5.41 20z\"/>\n",
              "  </svg>\n",
              "      </button>\n",
              "      \n",
              "  <style>\n",
              "    .colab-df-container {\n",
              "      display:flex;\n",
              "      flex-wrap:wrap;\n",
              "      gap: 12px;\n",
              "    }\n",
              "\n",
              "    .colab-df-convert {\n",
              "      background-color: #E8F0FE;\n",
              "      border: none;\n",
              "      border-radius: 50%;\n",
              "      cursor: pointer;\n",
              "      display: none;\n",
              "      fill: #1967D2;\n",
              "      height: 32px;\n",
              "      padding: 0 0 0 0;\n",
              "      width: 32px;\n",
              "    }\n",
              "\n",
              "    .colab-df-convert:hover {\n",
              "      background-color: #E2EBFA;\n",
              "      box-shadow: 0px 1px 2px rgba(60, 64, 67, 0.3), 0px 1px 3px 1px rgba(60, 64, 67, 0.15);\n",
              "      fill: #174EA6;\n",
              "    }\n",
              "\n",
              "    [theme=dark] .colab-df-convert {\n",
              "      background-color: #3B4455;\n",
              "      fill: #D2E3FC;\n",
              "    }\n",
              "\n",
              "    [theme=dark] .colab-df-convert:hover {\n",
              "      background-color: #434B5C;\n",
              "      box-shadow: 0px 1px 3px 1px rgba(0, 0, 0, 0.15);\n",
              "      filter: drop-shadow(0px 1px 2px rgba(0, 0, 0, 0.3));\n",
              "      fill: #FFFFFF;\n",
              "    }\n",
              "  </style>\n",
              "\n",
              "      <script>\n",
              "        const buttonEl =\n",
              "          document.querySelector('#df-9ff5a41b-bfac-4be3-b396-dfcae7073b7f button.colab-df-convert');\n",
              "        buttonEl.style.display =\n",
              "          google.colab.kernel.accessAllowed ? 'block' : 'none';\n",
              "\n",
              "        async function convertToInteractive(key) {\n",
              "          const element = document.querySelector('#df-9ff5a41b-bfac-4be3-b396-dfcae7073b7f');\n",
              "          const dataTable =\n",
              "            await google.colab.kernel.invokeFunction('convertToInteractive',\n",
              "                                                     [key], {});\n",
              "          if (!dataTable) return;\n",
              "\n",
              "          const docLinkHtml = 'Like what you see? Visit the ' +\n",
              "            '<a target=\"_blank\" href=https://colab.research.google.com/notebooks/data_table.ipynb>data table notebook</a>'\n",
              "            + ' to learn more about interactive tables.';\n",
              "          element.innerHTML = '';\n",
              "          dataTable['output_type'] = 'display_data';\n",
              "          await google.colab.output.renderOutput(dataTable, element);\n",
              "          const docLink = document.createElement('div');\n",
              "          docLink.innerHTML = docLinkHtml;\n",
              "          element.appendChild(docLink);\n",
              "        }\n",
              "      </script>\n",
              "    </div>\n",
              "  </div>\n",
              "  "
            ],
            "text/plain": [
              "      SL   SW   PL   PW  Classification\n",
              "145  6.7  3.0  5.2  2.3  Iris-virginica\n",
              "146  6.3  2.5  5.0  1.9  Iris-virginica\n",
              "147  6.5  3.0  NaN  2.0  Iris-virginica\n",
              "148  6.2  3.4  5.4  2.3  Iris-virginica\n",
              "149  5.9  3.0  5.1  1.8  Iris-virginica"
            ]
          },
          "metadata": {},
          "execution_count": 892
        }
      ]
    },
    {
      "cell_type": "code",
      "source": [
        "irisData=iris_Data"
      ],
      "metadata": {
        "id": "Vljr1H7oFLIo"
      },
      "execution_count": 893,
      "outputs": []
    },
    {
      "cell_type": "code",
      "source": [
        "from sklearn.preprocessing import LabelEncoder\n",
        "label_en =LabelEncoder()\n",
        "a=['Classification']\n",
        "for i in np.arange(len(a)):\n",
        "    irisData[a[i]]=label_en.fit_transform(irisData[a[i]])"
      ],
      "metadata": {
        "id": "Y2M68J034bpk"
      },
      "execution_count": 894,
      "outputs": []
    },
    {
      "cell_type": "code",
      "source": [
        "irisData.head()\n"
      ],
      "metadata": {
        "colab": {
          "base_uri": "https://localhost:8080/",
          "height": 206
        },
        "id": "xAvZQB76GPpk",
        "outputId": "f346116b-e825-40eb-cc4b-d046e907be26"
      },
      "execution_count": 895,
      "outputs": [
        {
          "output_type": "execute_result",
          "data": {
            "text/html": [
              "\n",
              "  <div id=\"df-69c8579b-42f7-40e2-8707-ada9259a7501\">\n",
              "    <div class=\"colab-df-container\">\n",
              "      <div>\n",
              "<style scoped>\n",
              "    .dataframe tbody tr th:only-of-type {\n",
              "        vertical-align: middle;\n",
              "    }\n",
              "\n",
              "    .dataframe tbody tr th {\n",
              "        vertical-align: top;\n",
              "    }\n",
              "\n",
              "    .dataframe thead th {\n",
              "        text-align: right;\n",
              "    }\n",
              "</style>\n",
              "<table border=\"1\" class=\"dataframe\">\n",
              "  <thead>\n",
              "    <tr style=\"text-align: right;\">\n",
              "      <th></th>\n",
              "      <th>SL</th>\n",
              "      <th>SW</th>\n",
              "      <th>PL</th>\n",
              "      <th>PW</th>\n",
              "      <th>Classification</th>\n",
              "    </tr>\n",
              "  </thead>\n",
              "  <tbody>\n",
              "    <tr>\n",
              "      <th>0</th>\n",
              "      <td>5.1</td>\n",
              "      <td>3.5</td>\n",
              "      <td>1.4</td>\n",
              "      <td>0.2</td>\n",
              "      <td>0</td>\n",
              "    </tr>\n",
              "    <tr>\n",
              "      <th>1</th>\n",
              "      <td>4.9</td>\n",
              "      <td>3.0</td>\n",
              "      <td>1.4</td>\n",
              "      <td>0.2</td>\n",
              "      <td>0</td>\n",
              "    </tr>\n",
              "    <tr>\n",
              "      <th>2</th>\n",
              "      <td>NaN</td>\n",
              "      <td>3.2</td>\n",
              "      <td>1.3</td>\n",
              "      <td>0.2</td>\n",
              "      <td>0</td>\n",
              "    </tr>\n",
              "    <tr>\n",
              "      <th>3</th>\n",
              "      <td>4.6</td>\n",
              "      <td>3.1</td>\n",
              "      <td>1.5</td>\n",
              "      <td>0.2</td>\n",
              "      <td>0</td>\n",
              "    </tr>\n",
              "    <tr>\n",
              "      <th>4</th>\n",
              "      <td>5.0</td>\n",
              "      <td>3.6</td>\n",
              "      <td>1.4</td>\n",
              "      <td>0.2</td>\n",
              "      <td>0</td>\n",
              "    </tr>\n",
              "  </tbody>\n",
              "</table>\n",
              "</div>\n",
              "      <button class=\"colab-df-convert\" onclick=\"convertToInteractive('df-69c8579b-42f7-40e2-8707-ada9259a7501')\"\n",
              "              title=\"Convert this dataframe to an interactive table.\"\n",
              "              style=\"display:none;\">\n",
              "        \n",
              "  <svg xmlns=\"http://www.w3.org/2000/svg\" height=\"24px\"viewBox=\"0 0 24 24\"\n",
              "       width=\"24px\">\n",
              "    <path d=\"M0 0h24v24H0V0z\" fill=\"none\"/>\n",
              "    <path d=\"M18.56 5.44l.94 2.06.94-2.06 2.06-.94-2.06-.94-.94-2.06-.94 2.06-2.06.94zm-11 1L8.5 8.5l.94-2.06 2.06-.94-2.06-.94L8.5 2.5l-.94 2.06-2.06.94zm10 10l.94 2.06.94-2.06 2.06-.94-2.06-.94-.94-2.06-.94 2.06-2.06.94z\"/><path d=\"M17.41 7.96l-1.37-1.37c-.4-.4-.92-.59-1.43-.59-.52 0-1.04.2-1.43.59L10.3 9.45l-7.72 7.72c-.78.78-.78 2.05 0 2.83L4 21.41c.39.39.9.59 1.41.59.51 0 1.02-.2 1.41-.59l7.78-7.78 2.81-2.81c.8-.78.8-2.07 0-2.86zM5.41 20L4 18.59l7.72-7.72 1.47 1.35L5.41 20z\"/>\n",
              "  </svg>\n",
              "      </button>\n",
              "      \n",
              "  <style>\n",
              "    .colab-df-container {\n",
              "      display:flex;\n",
              "      flex-wrap:wrap;\n",
              "      gap: 12px;\n",
              "    }\n",
              "\n",
              "    .colab-df-convert {\n",
              "      background-color: #E8F0FE;\n",
              "      border: none;\n",
              "      border-radius: 50%;\n",
              "      cursor: pointer;\n",
              "      display: none;\n",
              "      fill: #1967D2;\n",
              "      height: 32px;\n",
              "      padding: 0 0 0 0;\n",
              "      width: 32px;\n",
              "    }\n",
              "\n",
              "    .colab-df-convert:hover {\n",
              "      background-color: #E2EBFA;\n",
              "      box-shadow: 0px 1px 2px rgba(60, 64, 67, 0.3), 0px 1px 3px 1px rgba(60, 64, 67, 0.15);\n",
              "      fill: #174EA6;\n",
              "    }\n",
              "\n",
              "    [theme=dark] .colab-df-convert {\n",
              "      background-color: #3B4455;\n",
              "      fill: #D2E3FC;\n",
              "    }\n",
              "\n",
              "    [theme=dark] .colab-df-convert:hover {\n",
              "      background-color: #434B5C;\n",
              "      box-shadow: 0px 1px 3px 1px rgba(0, 0, 0, 0.15);\n",
              "      filter: drop-shadow(0px 1px 2px rgba(0, 0, 0, 0.3));\n",
              "      fill: #FFFFFF;\n",
              "    }\n",
              "  </style>\n",
              "\n",
              "      <script>\n",
              "        const buttonEl =\n",
              "          document.querySelector('#df-69c8579b-42f7-40e2-8707-ada9259a7501 button.colab-df-convert');\n",
              "        buttonEl.style.display =\n",
              "          google.colab.kernel.accessAllowed ? 'block' : 'none';\n",
              "\n",
              "        async function convertToInteractive(key) {\n",
              "          const element = document.querySelector('#df-69c8579b-42f7-40e2-8707-ada9259a7501');\n",
              "          const dataTable =\n",
              "            await google.colab.kernel.invokeFunction('convertToInteractive',\n",
              "                                                     [key], {});\n",
              "          if (!dataTable) return;\n",
              "\n",
              "          const docLinkHtml = 'Like what you see? Visit the ' +\n",
              "            '<a target=\"_blank\" href=https://colab.research.google.com/notebooks/data_table.ipynb>data table notebook</a>'\n",
              "            + ' to learn more about interactive tables.';\n",
              "          element.innerHTML = '';\n",
              "          dataTable['output_type'] = 'display_data';\n",
              "          await google.colab.output.renderOutput(dataTable, element);\n",
              "          const docLink = document.createElement('div');\n",
              "          docLink.innerHTML = docLinkHtml;\n",
              "          element.appendChild(docLink);\n",
              "        }\n",
              "      </script>\n",
              "    </div>\n",
              "  </div>\n",
              "  "
            ],
            "text/plain": [
              "    SL   SW   PL   PW  Classification\n",
              "0  5.1  3.5  1.4  0.2               0\n",
              "1  4.9  3.0  1.4  0.2               0\n",
              "2  NaN  3.2  1.3  0.2               0\n",
              "3  4.6  3.1  1.5  0.2               0\n",
              "4  5.0  3.6  1.4  0.2               0"
            ]
          },
          "metadata": {},
          "execution_count": 895
        }
      ]
    },
    {
      "cell_type": "code",
      "source": [
        "irisData['Classification'].value_counts()"
      ],
      "metadata": {
        "colab": {
          "base_uri": "https://localhost:8080/"
        },
        "id": "tH0QaEWJFeho",
        "outputId": "303d1369-ec5e-4f57-8e39-26e07ea1e2bb"
      },
      "execution_count": 896,
      "outputs": [
        {
          "output_type": "execute_result",
          "data": {
            "text/plain": [
              "2    50\n",
              "1    50\n",
              "0    50\n",
              "Name: Classification, dtype: int64"
            ]
          },
          "metadata": {},
          "execution_count": 896
        }
      ]
    },
    {
      "cell_type": "code",
      "source": [
        "#Missing values in the dataset\n",
        "irisData.isna().sum()"
      ],
      "metadata": {
        "colab": {
          "base_uri": "https://localhost:8080/"
        },
        "id": "fcGjaYMap416",
        "outputId": "f66a30f2-0d9b-43f3-cfbc-90b3e8fd85da"
      },
      "execution_count": 897,
      "outputs": [
        {
          "output_type": "execute_result",
          "data": {
            "text/plain": [
              "SL                7\n",
              "SW                6\n",
              "PL                6\n",
              "PW                0\n",
              "Classification    0\n",
              "dtype: int64"
            ]
          },
          "metadata": {},
          "execution_count": 897
        }
      ]
    },
    {
      "cell_type": "code",
      "source": [
        "\n",
        "freqgraph=irisData.select_dtypes(include=['float'])\n",
        "for i in freqgraph:\n",
        "    sns.kdeplot(irisData[i], color='red', shade=True)\n",
        "    plt.show()"
      ],
      "metadata": {
        "colab": {
          "base_uri": "https://localhost:8080/",
          "height": 1000
        },
        "id": "kOBZ27qD5t1C",
        "outputId": "69b2af58-f6f3-4506-9e9a-059d38828b0e"
      },
      "execution_count": 898,
      "outputs": [
        {
          "output_type": "display_data",
          "data": {
            "image/png": "[encoded data removed]",
            "text/plain": [
              "<Figure size 432x288 with 1 Axes>"
            ]
          },
          "metadata": {
            "needs_background": "light"
          }
        },
        {
          "output_type": "display_data",
          "data": {
            "image/png": "[encoded data removed]",
            "text/plain": [
              "<Figure size 432x288 with 1 Axes>"
            ]
          },
          "metadata": {
            "needs_background": "light"
          }
        },
        {
          "output_type": "display_data",
          "data": {
            "image/png": "[encoded data removed]",
            "text/plain": [
              "<Figure size 432x288 with 1 Axes>"
            ]
          },
          "metadata": {
            "needs_background": "light"
          }
        },
        {
          "output_type": "display_data",
          "data": {
            "image/png": "[encoded data removed]",
            "text/plain": [
              "<Figure size 432x288 with 1 Axes>"
            ]
          },
          "metadata": {
            "needs_background": "light"
          }
        }
      ]
    },
    {
      "cell_type": "code",
      "source": [
        "freqgraph=irisData.select_dtypes(include=['float','int64'])\n",
        "freqgraph.hist(figsize=(11,9))\n",
        "plt.tight_layout()\n",
        "plt.show()"
      ],
      "metadata": {
        "colab": {
          "base_uri": "https://localhost:8080/",
          "height": 657
        },
        "id": "gid3oVTjUWBx",
        "outputId": "1c9b465a-0341-431e-d56e-9422da6452db"
      },
      "execution_count": 899,
      "outputs": [
        {
          "output_type": "display_data",
          "data": {
            "image/png": "[encoded data removed]",
            "text/plain": [
              "<Figure size 792x648 with 6 Axes>"
            ]
          },
          "metadata": {
            "needs_background": "light"
          }
        }
      ]
    },
    {
      "cell_type": "markdown",
      "source": [
        "####Obsevations\n",
        "- Dataset has 10 rows and 5 features\n",
        "- There are null values in the dataset."
      ],
      "metadata": {
        "id": "ZGQMg7S2YuDq"
      }
    },
    {
      "cell_type": "markdown",
      "source": [
        "#2. Do necessary pre-processing steps."
      ],
      "metadata": {
        "id": "eIhN3Yk25-Mi"
      }
    },
    {
      "cell_type": "markdown",
      "source": [
        "###Handling the missing values in the features SL, SW, PL with median"
      ],
      "metadata": {
        "id": "Lzn7qMfbZggQ"
      }
    },
    {
      "cell_type": "code",
      "source": [
        "irisData['SL']=irisData['SL'].fillna(irisData['SL'].median())"
      ],
      "metadata": {
        "id": "zax-OY9op9ZE"
      },
      "execution_count": 900,
      "outputs": []
    },
    {
      "cell_type": "code",
      "source": [
        "irisData.isna().sum()"
      ],
      "metadata": {
        "colab": {
          "base_uri": "https://localhost:8080/"
        },
        "id": "tIra61753E35",
        "outputId": "61091c74-7b46-487f-de93-409faebafc7d"
      },
      "execution_count": 901,
      "outputs": [
        {
          "output_type": "execute_result",
          "data": {
            "text/plain": [
              "SL                0\n",
              "SW                6\n",
              "PL                6\n",
              "PW                0\n",
              "Classification    0\n",
              "dtype: int64"
            ]
          },
          "metadata": {},
          "execution_count": 901
        }
      ]
    },
    {
      "cell_type": "code",
      "source": [
        "irisData['SW']=irisData['SW'].fillna(irisData['SW'].median())"
      ],
      "metadata": {
        "id": "Htxcssrk3XJO"
      },
      "execution_count": 902,
      "outputs": []
    },
    {
      "cell_type": "code",
      "source": [
        "irisData.isna().sum()"
      ],
      "metadata": {
        "colab": {
          "base_uri": "https://localhost:8080/"
        },
        "id": "KYTxM85Q3b6Z",
        "outputId": "52bb6c5e-68e6-4a4b-c0b6-7d24bfb180b4"
      },
      "execution_count": 903,
      "outputs": [
        {
          "output_type": "execute_result",
          "data": {
            "text/plain": [
              "SL                0\n",
              "SW                0\n",
              "PL                6\n",
              "PW                0\n",
              "Classification    0\n",
              "dtype: int64"
            ]
          },
          "metadata": {},
          "execution_count": 903
        }
      ]
    },
    {
      "cell_type": "code",
      "source": [
        "irisData['PL']=irisData['PL'].fillna(irisData['PL'].median())"
      ],
      "metadata": {
        "id": "cyh8TiTE3dem"
      },
      "execution_count": 904,
      "outputs": []
    },
    {
      "cell_type": "code",
      "source": [
        "irisData.isna().sum()"
      ],
      "metadata": {
        "colab": {
          "base_uri": "https://localhost:8080/"
        },
        "id": "KXvVYcU13lRX",
        "outputId": "fe6477bc-2e37-4bd7-ae01-1c16b66dfb5d"
      },
      "execution_count": 905,
      "outputs": [
        {
          "output_type": "execute_result",
          "data": {
            "text/plain": [
              "SL                0\n",
              "SW                0\n",
              "PL                0\n",
              "PW                0\n",
              "Classification    0\n",
              "dtype: int64"
            ]
          },
          "metadata": {},
          "execution_count": 905
        }
      ]
    },
    {
      "cell_type": "markdown",
      "source": [
        "All missing values are filled"
      ],
      "metadata": {
        "id": "u_HWJx_gZ1xR"
      }
    },
    {
      "cell_type": "markdown",
      "source": [
        "###Cheking the outliers in the features"
      ],
      "metadata": {
        "id": "yDEtQ5GTZ-HM"
      }
    },
    {
      "cell_type": "code",
      "source": [
        "for i in ['SL','SW','PW','PL']:\n",
        "  sns.boxplot(x=irisData[i])\n",
        "  plt.show()"
      ],
      "metadata": {
        "colab": {
          "base_uri": "https://localhost:8080/",
          "height": 1000
        },
        "id": "fC5uMKkk3qkr",
        "outputId": "73b98c58-6ce2-4c6f-a798-27bffaeb81f4"
      },
      "execution_count": 906,
      "outputs": [
        {
          "output_type": "display_data",
          "data": {
            "image/png": "[encoded data removed]",
            "text/plain": [
              "<Figure size 432x288 with 1 Axes>"
            ]
          },
          "metadata": {
            "needs_background": "light"
          }
        },
        {
          "output_type": "display_data",
          "data": {
            "image/png": "[encoded data removed]",
            "text/plain": [
              "<Figure size 432x288 with 1 Axes>"
            ]
          },
          "metadata": {
            "needs_background": "light"
          }
        },
        {
          "output_type": "display_data",
          "data": {
            "image/png": "[encoded data removed]",
            "text/plain": [
              "<Figure size 432x288 with 1 Axes>"
            ]
          },
          "metadata": {
            "needs_background": "light"
          }
        },
        {
          "output_type": "display_data",
          "data": {
            "image/png": "[encoded data removed]",
            "text/plain": [
              "<Figure size 432x288 with 1 Axes>"
            ]
          },
          "metadata": {
            "needs_background": "light"
          }
        }
      ]
    },
    {
      "cell_type": "markdown",
      "source": [
        "From the boxplot, it is clear that there are outliers in the feature 'SW'."
      ],
      "metadata": {
        "id": "U-tgFEe-aHoi"
      }
    },
    {
      "cell_type": "markdown",
      "source": [
        "###Handling Outliers"
      ],
      "metadata": {
        "id": "YB4Mr9WW6hdI"
      }
    },
    {
      "cell_type": "code",
      "source": [
        "Q1=np.percentile(irisData['SW'],25, interpolation ='midpoint')\n",
        "Q2=np.percentile(irisData['SW'],50, interpolation ='midpoint')\n",
        "Q3=np.percentile(irisData['SW'],75, interpolation ='midpoint')"
      ],
      "metadata": {
        "id": "_g8uS_go4V5X"
      },
      "execution_count": 907,
      "outputs": []
    },
    {
      "cell_type": "code",
      "source": [
        "print(Q1)\n",
        "print(Q2)\n",
        "print(Q3)"
      ],
      "metadata": {
        "colab": {
          "base_uri": "https://localhost:8080/"
        },
        "id": "XJ6XNnHB4wNd",
        "outputId": "c8b355f3-1cce-4638-ae9a-d7bdce47b96d"
      },
      "execution_count": 908,
      "outputs": [
        {
          "output_type": "stream",
          "name": "stdout",
          "text": [
            "2.8\n",
            "3.0\n",
            "3.25\n"
          ]
        }
      ]
    },
    {
      "cell_type": "code",
      "source": [
        "IQR=Q3-Q1"
      ],
      "metadata": {
        "id": "nNxLMFQO4yPY"
      },
      "execution_count": 909,
      "outputs": []
    },
    {
      "cell_type": "code",
      "source": [
        "low_lim=Q1-1.5*IQR\n",
        "up_lim=Q3+1.5*IQR"
      ],
      "metadata": {
        "id": "qf-iEz6f43Iw"
      },
      "execution_count": 910,
      "outputs": []
    },
    {
      "cell_type": "code",
      "source": [
        "print(low_lim)\n",
        "print(up_lim)"
      ],
      "metadata": {
        "colab": {
          "base_uri": "https://localhost:8080/"
        },
        "id": "WVXsfCjK441e",
        "outputId": "3aaded0f-7069-4acc-d4e9-e54b0b2d4dba"
      },
      "execution_count": 911,
      "outputs": [
        {
          "output_type": "stream",
          "name": "stdout",
          "text": [
            "2.1249999999999996\n",
            "3.9250000000000003\n"
          ]
        }
      ]
    },
    {
      "cell_type": "code",
      "source": [
        "outlier=[]\n",
        "for x in irisData['SW']:\n",
        "    if((x>up_lim)or(x<low_lim)):\n",
        "        outlier.append(x)"
      ],
      "metadata": {
        "id": "xN6PqhId46kT"
      },
      "execution_count": 912,
      "outputs": []
    },
    {
      "cell_type": "code",
      "source": [
        "outlier"
      ],
      "metadata": {
        "colab": {
          "base_uri": "https://localhost:8080/"
        },
        "id": "PRSurN5e5Swt",
        "outputId": "a081a8c7-8f94-4e1a-dd53-28159b866dce"
      },
      "execution_count": 913,
      "outputs": [
        {
          "output_type": "execute_result",
          "data": {
            "text/plain": [
              "[4.0, 4.4, 4.1, 4.2, 2.0]"
            ]
          },
          "metadata": {},
          "execution_count": 913
        }
      ]
    },
    {
      "cell_type": "code",
      "source": [
        "ind1 =irisData['SW'][(irisData['SW']<low_lim)|(irisData['SW']>up_lim)].index"
      ],
      "metadata": {
        "id": "ii6mDg5f5U-t"
      },
      "execution_count": 914,
      "outputs": []
    },
    {
      "cell_type": "code",
      "source": [
        "ind1"
      ],
      "metadata": {
        "colab": {
          "base_uri": "https://localhost:8080/"
        },
        "id": "oO39KKBJ7aWE",
        "outputId": "0bdc70f2-ac91-46b1-ae42-4ae19637b3b9"
      },
      "execution_count": 915,
      "outputs": [
        {
          "output_type": "execute_result",
          "data": {
            "text/plain": [
              "Int64Index([14, 15, 32, 33, 60], dtype='int64')"
            ]
          },
          "metadata": {},
          "execution_count": 915
        }
      ]
    },
    {
      "cell_type": "code",
      "source": [
        "irisData.drop([14, 15, 32, 33, 60],inplace=True)"
      ],
      "metadata": {
        "id": "HN7cvzmz6LNm"
      },
      "execution_count": 916,
      "outputs": []
    },
    {
      "cell_type": "code",
      "source": [
        "sns.boxplot(x=irisData['SW'])"
      ],
      "metadata": {
        "colab": {
          "base_uri": "https://localhost:8080/",
          "height": 296
        },
        "id": "z_UjQ39e6zhF",
        "outputId": "7db28409-62e7-4a90-c0ef-6c428ba4b660"
      },
      "execution_count": 917,
      "outputs": [
        {
          "output_type": "execute_result",
          "data": {
            "text/plain": [
              "<matplotlib.axes._subplots.AxesSubplot at 0x7ff3f92325d0>"
            ]
          },
          "metadata": {},
          "execution_count": 917
        },
        {
          "output_type": "display_data",
          "data": {
            "image/png": "[encoded data removed]",
            "text/plain": [
              "<Figure size 432x288 with 1 Axes>"
            ]
          },
          "metadata": {
            "needs_background": "light"
          }
        }
      ]
    },
    {
      "cell_type": "markdown",
      "source": [
        "#3. Find out which classification model gives the best result to predict iris species.(also do random forest algorithm)"
      ],
      "metadata": {
        "id": "buKwTl-r6xwx"
      }
    },
    {
      "cell_type": "code",
      "source": [
        "#Splitting the data\n",
        "y=irisData['Classification']\n",
        "X=irisData.drop(['Classification'],axis=1)"
      ],
      "metadata": {
        "id": "3gYlxaY17A9x"
      },
      "execution_count": 918,
      "outputs": []
    },
    {
      "cell_type": "code",
      "source": [
        "print(X.shape)\n",
        "print(y.shape)"
      ],
      "metadata": {
        "colab": {
          "base_uri": "https://localhost:8080/"
        },
        "id": "MP5rVFC9GYRh",
        "outputId": "02f22055-991d-47c4-89b2-4c299e6890eb"
      },
      "execution_count": 919,
      "outputs": [
        {
          "output_type": "stream",
          "name": "stdout",
          "text": [
            "(145, 4)\n",
            "(145,)\n"
          ]
        }
      ]
    },
    {
      "cell_type": "code",
      "source": [
        "from sklearn.model_selection import train_test_split\n",
        "#split the Dataset into train and test\n",
        "X_train,X_test,y_train,y_test= train_test_split(X,y,random_state=42,test_size=0.25)\n",
        "print(X_train.shape)\n",
        "print(y_train.shape)\n",
        "print(X_test.shape)\n",
        "print(y_test.shape)"
      ],
      "metadata": {
        "colab": {
          "base_uri": "https://localhost:8080/"
        },
        "id": "7Rf2fXnz9f6l",
        "outputId": "1ef56f94-9bf6-4cd6-ac3d-2b5b940ddcc8"
      },
      "execution_count": 920,
      "outputs": [
        {
          "output_type": "stream",
          "name": "stdout",
          "text": [
            "(108, 4)\n",
            "(108,)\n",
            "(37, 4)\n",
            "(37,)\n"
          ]
        }
      ]
    },
    {
      "cell_type": "markdown",
      "source": [
        "##Implementing Logistic Regression"
      ],
      "metadata": {
        "id": "cjPIUnF23rcT"
      }
    },
    {
      "cell_type": "code",
      "source": [
        "from sklearn.linear_model import LogisticRegression\n",
        "logit_model =LogisticRegression()\n",
        "logit_model.fit(X_train, y_train)\n",
        "y_pred= logit_model.predict(X_test)"
      ],
      "metadata": {
        "colab": {
          "base_uri": "https://localhost:8080/"
        },
        "id": "e_k_yHaLHJZK",
        "outputId": "e67d91be-f5c8-4708-bd07-52012c9878d8"
      },
      "execution_count": 921,
      "outputs": [
        {
          "output_type": "stream",
          "name": "stderr",
          "text": [
            "/usr/local/lib/python3.7/dist-packages/sklearn/linear_model/_logistic.py:818: ConvergenceWarning: lbfgs failed to converge (status=1):\n",
            "STOP: TOTAL NO. of ITERATIONS REACHED LIMIT.\n",
            "\n",
            "Increase the number of iterations (max_iter) or scale the data as shown in:\n",
            "    https://scikit-learn.org/stable/modules/preprocessing.html\n",
            "Please also refer to the documentation for alternative solver options:\n",
            "    https://scikit-learn.org/stable/modules/linear_model.html#logistic-regression\n",
            "  extra_warning_msg=_LOGISTIC_SOLVER_CONVERGENCE_MSG,\n"
          ]
        }
      ]
    },
    {
      "cell_type": "code",
      "source": [
        "y_test[:]\n"
      ],
      "metadata": {
        "colab": {
          "base_uri": "https://localhost:8080/"
        },
        "id": "ssnNJ6Ey7HfX",
        "outputId": "2b2da070-d974-48f5-ddf1-df2328eb42cf"
      },
      "execution_count": 922,
      "outputs": [
        {
          "output_type": "execute_result",
          "data": {
            "text/plain": [
              "74     1\n",
              "145    2\n",
              "29     0\n",
              "21     0\n",
              "46     0\n",
              "122    2\n",
              "131    2\n",
              "113    2\n",
              "89     1\n",
              "20     0\n",
              "12     0\n",
              "59     1\n",
              "133    2\n",
              "83     1\n",
              "78     1\n",
              "40     0\n",
              "117    2\n",
              "138    2\n",
              "105    2\n",
              "106    2\n",
              "99     1\n",
              "141    2\n",
              "11     0\n",
              "71     1\n",
              "35     0\n",
              "49     0\n",
              "55     1\n",
              "81     1\n",
              "116    2\n",
              "9      0\n",
              "4      0\n",
              "28     0\n",
              "125    2\n",
              "130    2\n",
              "18     0\n",
              "10     0\n",
              "123    2\n",
              "Name: Classification, dtype: int64"
            ]
          },
          "metadata": {},
          "execution_count": 922
        }
      ]
    },
    {
      "cell_type": "code",
      "source": [
        "y_pred[:]"
      ],
      "metadata": {
        "colab": {
          "base_uri": "https://localhost:8080/"
        },
        "id": "pRYyvvGP7OxK",
        "outputId": "fd5ab1c1-888d-4c7b-991c-beba718d2d7b"
      },
      "execution_count": 923,
      "outputs": [
        {
          "output_type": "execute_result",
          "data": {
            "text/plain": [
              "array([1, 2, 0, 0, 0, 2, 2, 2, 1, 0, 0, 1, 1, 2, 1, 0, 2, 2, 2, 1, 1, 2,\n",
              "       0, 1, 0, 0, 1, 1, 2, 0, 0, 1, 2, 2, 0, 0, 2])"
            ]
          },
          "metadata": {},
          "execution_count": 923
        }
      ]
    },
    {
      "cell_type": "code",
      "source": [
        "from sklearn.metrics import confusion_matrix, accuracy_score, precision_score, recall_score, f1_score"
      ],
      "metadata": {
        "id": "K3_SrtmiH-_n"
      },
      "execution_count": 924,
      "outputs": []
    },
    {
      "cell_type": "code",
      "source": [
        "print(\"Accuracy is:\", accuracy_score(y_test, y_pred))\n",
        "print(\"Precision is:\", precision_score(y_test, y_pred,average='macro'))\n",
        "print(\"Recall is :\", recall_score(y_test,y_pred,average='macro'))\n",
        "print(\"f1 score is:\", f1_score(y_test, y_pred,average='macro'))"
      ],
      "metadata": {
        "colab": {
          "base_uri": "https://localhost:8080/"
        },
        "id": "wCcDC28_Izae",
        "outputId": "280f74ad-804c-4daf-9158-a64d67352301"
      },
      "execution_count": 925,
      "outputs": [
        {
          "output_type": "stream",
          "name": "stdout",
          "text": [
            "Accuracy is: 0.8918918918918919\n",
            "Precision is: 0.8834498834498835\n",
            "Recall is : 0.8915343915343915\n",
            "f1 score is: 0.8839506172839506\n"
          ]
        }
      ]
    },
    {
      "cell_type": "code",
      "source": [
        "confusion_matrix(y_test, y_pred)"
      ],
      "metadata": {
        "colab": {
          "base_uri": "https://localhost:8080/"
        },
        "id": "i41OQOpPI7I4",
        "outputId": "10d24e6b-3ebb-44bc-f734-7f66b5d38577"
      },
      "execution_count": 926,
      "outputs": [
        {
          "output_type": "execute_result",
          "data": {
            "text/plain": [
              "array([[13,  1,  0],\n",
              "       [ 0,  8,  1],\n",
              "       [ 0,  2, 12]])"
            ]
          },
          "metadata": {},
          "execution_count": 926
        }
      ]
    },
    {
      "cell_type": "markdown",
      "source": [
        "##Implementing KNN"
      ],
      "metadata": {
        "id": "kNtH6U3W3vhf"
      }
    },
    {
      "cell_type": "code",
      "source": [
        "from sklearn.neighbors import KNeighborsClassifier\n",
        "acc_values=[]\n",
        "neighbors=np.arange(2,15)\n",
        "for k in neighbors:\n",
        "    classifier=KNeighborsClassifier(n_neighbors=k, metric='minkowski')\n",
        "    classifier.fit(X_train, y_train)\n",
        "    y_pred= classifier.predict(X_test)\n",
        "    acc=accuracy_score(y_test, y_pred)\n",
        "    acc_values.append(acc)"
      ],
      "metadata": {
        "id": "aEjzK3MRMHFu"
      },
      "execution_count": 927,
      "outputs": []
    },
    {
      "cell_type": "code",
      "source": [
        "acc_values"
      ],
      "metadata": {
        "colab": {
          "base_uri": "https://localhost:8080/"
        },
        "id": "tPQ9YNRhN1jo",
        "outputId": "1a7ea21e-9509-4e16-c2d4-80c6fb3b4b07"
      },
      "execution_count": 928,
      "outputs": [
        {
          "output_type": "execute_result",
          "data": {
            "text/plain": [
              "[0.8918918918918919,\n",
              " 0.918918918918919,\n",
              " 0.8918918918918919,\n",
              " 0.918918918918919,\n",
              " 0.8648648648648649,\n",
              " 0.8918918918918919,\n",
              " 0.8378378378378378,\n",
              " 0.918918918918919,\n",
              " 0.8918918918918919,\n",
              " 0.918918918918919,\n",
              " 0.8648648648648649,\n",
              " 0.8648648648648649,\n",
              " 0.8648648648648649]"
            ]
          },
          "metadata": {},
          "execution_count": 928
        }
      ]
    },
    {
      "cell_type": "code",
      "source": [
        "plt.plot(neighbors, acc_values, 'o-')\n",
        "plt.xlabel('k value')\n",
        "plt.ylabel('accuracy')"
      ],
      "metadata": {
        "colab": {
          "base_uri": "https://localhost:8080/",
          "height": 296
        },
        "id": "fgL8dboMN49v",
        "outputId": "e9a2825b-d354-4a81-8afa-685bf421ddf5"
      },
      "execution_count": 929,
      "outputs": [
        {
          "output_type": "execute_result",
          "data": {
            "text/plain": [
              "Text(0, 0.5, 'accuracy')"
            ]
          },
          "metadata": {},
          "execution_count": 929
        },
        {
          "output_type": "display_data",
          "data": {
            "image/png": "[encoded data removed]",
            "text/plain": [
              "<Figure size 432x288 with 1 Axes>"
            ]
          },
          "metadata": {
            "needs_background": "light"
          }
        }
      ]
    },
    {
      "cell_type": "code",
      "source": [
        "classifier=KNeighborsClassifier(n_neighbors=6, metric='minkowski')\n",
        "classifier.fit(X_train, y_train)\n",
        "y_pred= classifier.predict(X_test)"
      ],
      "metadata": {
        "id": "GQhPKZSwN9hJ"
      },
      "execution_count": 930,
      "outputs": []
    },
    {
      "cell_type": "code",
      "source": [
        "print(\"Accuracy is:\", accuracy_score(y_test, y_pred))\n",
        "print(\"Precision is:\", precision_score(y_test, y_pred,average='macro'))\n",
        "print(\"Recall is :\", recall_score(y_test,y_pred,average='macro'))\n",
        "print(\"f1 score is:\", f1_score(y_test, y_pred,average='macro'))"
      ],
      "metadata": {
        "colab": {
          "base_uri": "https://localhost:8080/"
        },
        "id": "wTZPKIG6OA8L",
        "outputId": "4e4ba006-480a-444c-9adf-7c58f58645e4"
      },
      "execution_count": 931,
      "outputs": [
        {
          "output_type": "stream",
          "name": "stdout",
          "text": [
            "Accuracy is: 0.8648648648648649\n",
            "Precision is: 0.861111111111111\n",
            "Recall is : 0.8677248677248678\n",
            "f1 score is: 0.8570071903405238\n"
          ]
        }
      ]
    },
    {
      "cell_type": "code",
      "source": [
        "confusion_matrix(y_test, y_pred)"
      ],
      "metadata": {
        "colab": {
          "base_uri": "https://localhost:8080/"
        },
        "id": "CcNvKd5FODO-",
        "outputId": "61afd6ac-e577-406b-99f4-7345a7ce59b0"
      },
      "execution_count": 932,
      "outputs": [
        {
          "output_type": "execute_result",
          "data": {
            "text/plain": [
              "array([[13,  1,  0],\n",
              "       [ 0,  8,  1],\n",
              "       [ 0,  3, 11]])"
            ]
          },
          "metadata": {},
          "execution_count": 932
        }
      ]
    },
    {
      "cell_type": "code",
      "source": [
        "irisData.describe()"
      ],
      "metadata": {
        "colab": {
          "base_uri": "https://localhost:8080/",
          "height": 300
        },
        "id": "plC2VEpEQWeQ",
        "outputId": "9c2e78dc-2091-44b7-c186-046b276748b1"
      },
      "execution_count": 933,
      "outputs": [
        {
          "output_type": "execute_result",
          "data": {
            "text/html": [
              "\n",
              "  <div id=\"df-2c8c0b84-ae4d-47a5-a22a-57ff9caafbaf\">\n",
              "    <div class=\"colab-df-container\">\n",
              "      <div>\n",
              "<style scoped>\n",
              "    .dataframe tbody tr th:only-of-type {\n",
              "        vertical-align: middle;\n",
              "    }\n",
              "\n",
              "    .dataframe tbody tr th {\n",
              "        vertical-align: top;\n",
              "    }\n",
              "\n",
              "    .dataframe thead th {\n",
              "        text-align: right;\n",
              "    }\n",
              "</style>\n",
              "<table border=\"1\" class=\"dataframe\">\n",
              "  <thead>\n",
              "    <tr style=\"text-align: right;\">\n",
              "      <th></th>\n",
              "      <th>SL</th>\n",
              "      <th>SW</th>\n",
              "      <th>PL</th>\n",
              "      <th>PW</th>\n",
              "      <th>Classification</th>\n",
              "    </tr>\n",
              "  </thead>\n",
              "  <tbody>\n",
              "    <tr>\n",
              "      <th>count</th>\n",
              "      <td>145.000000</td>\n",
              "      <td>145.000000</td>\n",
              "      <td>145.000000</td>\n",
              "      <td>145.000000</td>\n",
              "      <td>145.000000</td>\n",
              "    </tr>\n",
              "    <tr>\n",
              "      <th>mean</th>\n",
              "      <td>5.867586</td>\n",
              "      <td>3.023448</td>\n",
              "      <td>3.847586</td>\n",
              "      <td>1.226897</td>\n",
              "      <td>1.027586</td>\n",
              "    </tr>\n",
              "    <tr>\n",
              "      <th>std</th>\n",
              "      <td>0.816827</td>\n",
              "      <td>0.374354</td>\n",
              "      <td>1.712265</td>\n",
              "      <td>0.758219</td>\n",
              "      <td>0.816027</td>\n",
              "    </tr>\n",
              "    <tr>\n",
              "      <th>min</th>\n",
              "      <td>4.300000</td>\n",
              "      <td>2.200000</td>\n",
              "      <td>1.000000</td>\n",
              "      <td>0.100000</td>\n",
              "      <td>0.000000</td>\n",
              "    </tr>\n",
              "    <tr>\n",
              "      <th>25%</th>\n",
              "      <td>5.200000</td>\n",
              "      <td>2.800000</td>\n",
              "      <td>1.600000</td>\n",
              "      <td>0.300000</td>\n",
              "      <td>0.000000</td>\n",
              "    </tr>\n",
              "    <tr>\n",
              "      <th>50%</th>\n",
              "      <td>5.800000</td>\n",
              "      <td>3.000000</td>\n",
              "      <td>4.350000</td>\n",
              "      <td>1.300000</td>\n",
              "      <td>1.000000</td>\n",
              "    </tr>\n",
              "    <tr>\n",
              "      <th>75%</th>\n",
              "      <td>6.400000</td>\n",
              "      <td>3.200000</td>\n",
              "      <td>5.100000</td>\n",
              "      <td>1.800000</td>\n",
              "      <td>2.000000</td>\n",
              "    </tr>\n",
              "    <tr>\n",
              "      <th>max</th>\n",
              "      <td>7.900000</td>\n",
              "      <td>3.900000</td>\n",
              "      <td>6.900000</td>\n",
              "      <td>2.500000</td>\n",
              "      <td>2.000000</td>\n",
              "    </tr>\n",
              "  </tbody>\n",
              "</table>\n",
              "</div>\n",
              "      <button class=\"colab-df-convert\" onclick=\"convertToInteractive('df-2c8c0b84-ae4d-47a5-a22a-57ff9caafbaf')\"\n",
              "              title=\"Convert this dataframe to an interactive table.\"\n",
              "              style=\"display:none;\">\n",
              "        \n",
              "  <svg xmlns=\"http://www.w3.org/2000/svg\" height=\"24px\"viewBox=\"0 0 24 24\"\n",
              "       width=\"24px\">\n",
              "    <path d=\"M0 0h24v24H0V0z\" fill=\"none\"/>\n",
              "    <path d=\"M18.56 5.44l.94 2.06.94-2.06 2.06-.94-2.06-.94-.94-2.06-.94 2.06-2.06.94zm-11 1L8.5 8.5l.94-2.06 2.06-.94-2.06-.94L8.5 2.5l-.94 2.06-2.06.94zm10 10l.94 2.06.94-2.06 2.06-.94-2.06-.94-.94-2.06-.94 2.06-2.06.94z\"/><path d=\"M17.41 7.96l-1.37-1.37c-.4-.4-.92-.59-1.43-.59-.52 0-1.04.2-1.43.59L10.3 9.45l-7.72 7.72c-.78.78-.78 2.05 0 2.83L4 21.41c.39.39.9.59 1.41.59.51 0 1.02-.2 1.41-.59l7.78-7.78 2.81-2.81c.8-.78.8-2.07 0-2.86zM5.41 20L4 18.59l7.72-7.72 1.47 1.35L5.41 20z\"/>\n",
              "  </svg>\n",
              "      </button>\n",
              "      \n",
              "  <style>\n",
              "    .colab-df-container {\n",
              "      display:flex;\n",
              "      flex-wrap:wrap;\n",
              "      gap: 12px;\n",
              "    }\n",
              "\n",
              "    .colab-df-convert {\n",
              "      background-color: #E8F0FE;\n",
              "      border: none;\n",
              "      border-radius: 50%;\n",
              "      cursor: pointer;\n",
              "      display: none;\n",
              "      fill: #1967D2;\n",
              "      height: 32px;\n",
              "      padding: 0 0 0 0;\n",
              "      width: 32px;\n",
              "    }\n",
              "\n",
              "    .colab-df-convert:hover {\n",
              "      background-color: #E2EBFA;\n",
              "      box-shadow: 0px 1px 2px rgba(60, 64, 67, 0.3), 0px 1px 3px 1px rgba(60, 64, 67, 0.15);\n",
              "      fill: #174EA6;\n",
              "    }\n",
              "\n",
              "    [theme=dark] .colab-df-convert {\n",
              "      background-color: #3B4455;\n",
              "      fill: #D2E3FC;\n",
              "    }\n",
              "\n",
              "    [theme=dark] .colab-df-convert:hover {\n",
              "      background-color: #434B5C;\n",
              "      box-shadow: 0px 1px 3px 1px rgba(0, 0, 0, 0.15);\n",
              "      filter: drop-shadow(0px 1px 2px rgba(0, 0, 0, 0.3));\n",
              "      fill: #FFFFFF;\n",
              "    }\n",
              "  </style>\n",
              "\n",
              "      <script>\n",
              "        const buttonEl =\n",
              "          document.querySelector('#df-2c8c0b84-ae4d-47a5-a22a-57ff9caafbaf button.colab-df-convert');\n",
              "        buttonEl.style.display =\n",
              "          google.colab.kernel.accessAllowed ? 'block' : 'none';\n",
              "\n",
              "        async function convertToInteractive(key) {\n",
              "          const element = document.querySelector('#df-2c8c0b84-ae4d-47a5-a22a-57ff9caafbaf');\n",
              "          const dataTable =\n",
              "            await google.colab.kernel.invokeFunction('convertToInteractive',\n",
              "                                                     [key], {});\n",
              "          if (!dataTable) return;\n",
              "\n",
              "          const docLinkHtml = 'Like what you see? Visit the ' +\n",
              "            '<a target=\"_blank\" href=https://colab.research.google.com/notebooks/data_table.ipynb>data table notebook</a>'\n",
              "            + ' to learn more about interactive tables.';\n",
              "          element.innerHTML = '';\n",
              "          dataTable['output_type'] = 'display_data';\n",
              "          await google.colab.output.renderOutput(dataTable, element);\n",
              "          const docLink = document.createElement('div');\n",
              "          docLink.innerHTML = docLinkHtml;\n",
              "          element.appendChild(docLink);\n",
              "        }\n",
              "      </script>\n",
              "    </div>\n",
              "  </div>\n",
              "  "
            ],
            "text/plain": [
              "               SL          SW          PL          PW  Classification\n",
              "count  145.000000  145.000000  145.000000  145.000000      145.000000\n",
              "mean     5.867586    3.023448    3.847586    1.226897        1.027586\n",
              "std      0.816827    0.374354    1.712265    0.758219        0.816027\n",
              "min      4.300000    2.200000    1.000000    0.100000        0.000000\n",
              "25%      5.200000    2.800000    1.600000    0.300000        0.000000\n",
              "50%      5.800000    3.000000    4.350000    1.300000        1.000000\n",
              "75%      6.400000    3.200000    5.100000    1.800000        2.000000\n",
              "max      7.900000    3.900000    6.900000    2.500000        2.000000"
            ]
          },
          "metadata": {},
          "execution_count": 933
        }
      ]
    },
    {
      "cell_type": "markdown",
      "source": [
        "##Standard Scaling"
      ],
      "metadata": {
        "id": "e_hRAvYsbfHS"
      }
    },
    {
      "cell_type": "code",
      "source": [
        "from sklearn.preprocessing import StandardScaler\n",
        "scaler= StandardScaler()\n",
        "X_train= scaler.fit_transform(X_train)\n",
        "X_test= scaler.fit_transform(X_test)"
      ],
      "metadata": {
        "id": "ktv5AivvQciF"
      },
      "execution_count": 934,
      "outputs": []
    },
    {
      "cell_type": "code",
      "source": [
        "logit_model =LogisticRegression()\n",
        "logit_model.fit(X_train, y_train)\n",
        "y_pred= logit_model.predict(X_test)"
      ],
      "metadata": {
        "id": "OaYNQkbOQmEe"
      },
      "execution_count": 935,
      "outputs": []
    },
    {
      "cell_type": "code",
      "source": [
        "print(\"Accuracy is:\", accuracy_score(y_test, y_pred))\n",
        "print(\"Precision is:\", precision_score(y_test, y_pred,average='macro'))\n",
        "print(\"Recall is :\", recall_score(y_test,y_pred,average='macro'))\n",
        "print(\"f1 score is:\", f1_score(y_test, y_pred,average='macro'))"
      ],
      "metadata": {
        "colab": {
          "base_uri": "https://localhost:8080/"
        },
        "id": "ZVtoUzyzTX7z",
        "outputId": "15e667ec-f8b6-488c-d885-3d237b7b427a"
      },
      "execution_count": 936,
      "outputs": [
        {
          "output_type": "stream",
          "name": "stdout",
          "text": [
            "Accuracy is: 0.9459459459459459\n",
            "Precision is: 0.9391534391534391\n",
            "Recall is : 0.9391534391534391\n",
            "f1 score is: 0.9391534391534391\n"
          ]
        }
      ]
    },
    {
      "cell_type": "markdown",
      "source": [
        "All values are improved after scaling.\n",
        "- Accuracy is: 0.9459459459459459\n",
        "- Precision is: 0.9391534391534391\n",
        "- Recall is : 0.9391534391534391\n",
        "- f1 score is: 0.9391534391534391"
      ],
      "metadata": {
        "id": "dEypa9x64gZe"
      }
    },
    {
      "cell_type": "code",
      "source": [
        "t=[]\n",
        "t.append(['Logistic Regression',round(f1_score(y_test,y_pred,average='macro'),5),round(accuracy_score(y_test,y_pred),5),round(precision_score(y_test,y_pred,average='macro'),5),round(recall_score(y_test,y_pred,average='macro'),5)])\n"
      ],
      "metadata": {
        "id": "nffRBYzdDJvz"
      },
      "execution_count": 937,
      "outputs": []
    },
    {
      "cell_type": "code",
      "source": [
        "acc_values=[]\n",
        "neighbors=np.arange(3,14)\n",
        "for k in neighbors:\n",
        "    classifier=KNeighborsClassifier(n_neighbors=5, metric='minkowski')\n",
        "    classifier.fit(X_train, y_train)\n",
        "    y_pred= classifier.predict(X_test)\n",
        "    acc=accuracy_score(y_test, y_pred)\n",
        "    acc_values.append(acc)"
      ],
      "metadata": {
        "id": "T_vQbhhATaiU"
      },
      "execution_count": 938,
      "outputs": []
    },
    {
      "cell_type": "code",
      "source": [
        "plt.plot(neighbors, acc_values, 'o-')\n",
        "plt.xlabel('k value')\n",
        "plt.ylabel('accuracy')"
      ],
      "metadata": {
        "colab": {
          "base_uri": "https://localhost:8080/",
          "height": 296
        },
        "id": "Nq9HKDX0TkkU",
        "outputId": "039ca8af-592b-42ba-83b0-112d8afc226a"
      },
      "execution_count": 939,
      "outputs": [
        {
          "output_type": "execute_result",
          "data": {
            "text/plain": [
              "Text(0, 0.5, 'accuracy')"
            ]
          },
          "metadata": {},
          "execution_count": 939
        },
        {
          "output_type": "display_data",
          "data": {
            "image/png": "[encoded data removed]",
            "text/plain": [
              "<Figure size 432x288 with 1 Axes>"
            ]
          },
          "metadata": {
            "needs_background": "light"
          }
        }
      ]
    },
    {
      "cell_type": "code",
      "source": [
        "classifier=KNeighborsClassifier(n_neighbors=6, metric='minkowski')\n",
        "classifier.fit(X_train, y_train)\n",
        "y_pred= classifier.predict(X_test)"
      ],
      "metadata": {
        "id": "lIIXyaClTmWT"
      },
      "execution_count": 940,
      "outputs": []
    },
    {
      "cell_type": "code",
      "source": [
        "print(\"Accuracy is:\", accuracy_score(y_test, y_pred))\n",
        "print(\"Precision is:\", precision_score(y_test, y_pred,average='macro'))\n",
        "print(\"Recall is :\", recall_score(y_test,y_pred,average='macro'))\n",
        "print(\"f1 score is:\", f1_score(y_test, y_pred,average='macro'))"
      ],
      "metadata": {
        "colab": {
          "base_uri": "https://localhost:8080/"
        },
        "id": "ONt5C15NcLWW",
        "outputId": "6d84fa1a-f8f7-4502-e44e-eb0d0e8b7c12"
      },
      "execution_count": 941,
      "outputs": [
        {
          "output_type": "stream",
          "name": "stdout",
          "text": [
            "Accuracy is: 0.918918918918919\n",
            "Precision is: 0.9076923076923077\n",
            "Recall is : 0.9153439153439153\n",
            "f1 score is: 0.9103313840155945\n"
          ]
        }
      ]
    },
    {
      "cell_type": "markdown",
      "source": [
        "After scaling all values are improved.\n",
        "- Accuracy is: 0.918918918918919\n",
        "- Precision is: 0.9076923076923077\n",
        "- Recall is : 0.9153439153439153\n",
        "- f1 score is: 0.9103313840155945"
      ],
      "metadata": {
        "id": "j5CPksvl4SsQ"
      }
    },
    {
      "cell_type": "code",
      "source": [
        "t.append(['KNN',round(f1_score(y_test,y_pred,average='macro'),5),round(accuracy_score(y_test,y_pred),5),round(precision_score(y_test,y_pred,average='macro'),5),round(recall_score(y_test,y_pred,average='macro'),5)])\n"
      ],
      "metadata": {
        "id": "11zBcM86BQBP"
      },
      "execution_count": 942,
      "outputs": []
    },
    {
      "cell_type": "code",
      "source": [
        "confusion_matrix(y_test, y_pred)"
      ],
      "metadata": {
        "colab": {
          "base_uri": "https://localhost:8080/"
        },
        "id": "6r9dfX2CcNdu",
        "outputId": "a4960aa4-81ec-4d34-d605-063ece80405d"
      },
      "execution_count": 943,
      "outputs": [
        {
          "output_type": "execute_result",
          "data": {
            "text/plain": [
              "array([[14,  0,  0],\n",
              "       [ 0,  8,  1],\n",
              "       [ 0,  2, 12]])"
            ]
          },
          "metadata": {},
          "execution_count": 943
        }
      ]
    },
    {
      "cell_type": "markdown",
      "source": [
        "## Implementing Decision Tree Classifier"
      ],
      "metadata": {
        "id": "lv4ftKHB4wuq"
      }
    },
    {
      "cell_type": "code",
      "source": [
        "from sklearn.tree import DecisionTreeClassifier\n",
        "dt_model=DecisionTreeClassifier()\n",
        "dt_model.fit(X_train,y_train)\n",
        "y_pred=dt_model.predict(X_test)"
      ],
      "metadata": {
        "id": "KlYXViLBcUsD"
      },
      "execution_count": 944,
      "outputs": []
    },
    {
      "cell_type": "code",
      "source": [
        "print('Accuracy on Decision tree model is', accuracy_score(y_test, y_pred))"
      ],
      "metadata": {
        "colab": {
          "base_uri": "https://localhost:8080/"
        },
        "id": "3NDn0w2C4-Mo",
        "outputId": "4c5838e2-8a41-4b53-ec05-938440f296d6"
      },
      "execution_count": 945,
      "outputs": [
        {
          "output_type": "stream",
          "name": "stdout",
          "text": [
            "Accuracy on Decision tree model is 0.9459459459459459\n"
          ]
        }
      ]
    },
    {
      "cell_type": "code",
      "source": [
        "y_test.value_counts()"
      ],
      "metadata": {
        "colab": {
          "base_uri": "https://localhost:8080/"
        },
        "id": "DG2HkayH5AtM",
        "outputId": "50e094c4-22ef-4710-95c7-64ac246d8768"
      },
      "execution_count": 946,
      "outputs": [
        {
          "output_type": "execute_result",
          "data": {
            "text/plain": [
              "2    14\n",
              "0    14\n",
              "1     9\n",
              "Name: Classification, dtype: int64"
            ]
          },
          "metadata": {},
          "execution_count": 946
        }
      ]
    },
    {
      "cell_type": "code",
      "source": [
        "confusion_matrix(y_test, y_pred)"
      ],
      "metadata": {
        "colab": {
          "base_uri": "https://localhost:8080/"
        },
        "id": "OqtRg0rY5Dyi",
        "outputId": "4a8fff24-b512-47c4-f858-2d8e2b0aa1d3"
      },
      "execution_count": 947,
      "outputs": [
        {
          "output_type": "execute_result",
          "data": {
            "text/plain": [
              "array([[14,  0,  0],\n",
              "       [ 0,  9,  0],\n",
              "       [ 0,  2, 12]])"
            ]
          },
          "metadata": {},
          "execution_count": 947
        }
      ]
    },
    {
      "cell_type": "markdown",
      "source": [
        "Standard Scaling\n"
      ],
      "metadata": {
        "id": "UqRB7R-05MT3"
      }
    },
    {
      "cell_type": "code",
      "source": [
        "from sklearn.preprocessing import StandardScaler\n",
        "sc=StandardScaler()\n",
        "X_train=sc.fit_transform(X_train)\n",
        "X_test=sc.fit_transform(X_test)\n"
      ],
      "metadata": {
        "id": "Fhnp4axV5I9s"
      },
      "execution_count": 948,
      "outputs": []
    },
    {
      "cell_type": "markdown",
      "source": [
        "##Implementing SVM"
      ],
      "metadata": {
        "id": "6-VRdwDK8GDq"
      }
    },
    {
      "cell_type": "code",
      "source": [
        "from sklearn.svm import SVC\n",
        "svm_linear=SVC(kernel='linear')\n",
        "svm_linear.fit(X_train,y_train)\n",
        "y_pred=svm_linear.predict(X_test)"
      ],
      "metadata": {
        "id": "a2nUwplZ5dZn"
      },
      "execution_count": 949,
      "outputs": []
    },
    {
      "cell_type": "code",
      "source": [
        "print(\"accuracy is :\",accuracy_score(y_test,y_pred))\n",
        "print(\"precision is :\",precision_score(y_test,y_pred,average='macro'))\n",
        "print(\"recall is :\",recall_score(y_test,y_pred,average='macro'))\n",
        "print(\"F1 score is :\",f1_score(y_test,y_pred,average='macro'))"
      ],
      "metadata": {
        "colab": {
          "base_uri": "https://localhost:8080/"
        },
        "id": "ysxSBT3m7U5e",
        "outputId": "4a23999a-2543-4cdf-88c3-7ae0e89ca137"
      },
      "execution_count": 950,
      "outputs": [
        {
          "output_type": "stream",
          "name": "stdout",
          "text": [
            "accuracy is : 0.972972972972973\n",
            "precision is : 0.9777777777777779\n",
            "recall is : 0.9629629629629629\n",
            "F1 score is : 0.9688979039891819\n"
          ]
        }
      ]
    },
    {
      "cell_type": "code",
      "source": [
        "t.append(['SVM',round(f1_score(y_test,y_pred,average='macro'),5),round(accuracy_score(y_test,y_pred),5),round(precision_score(y_test,y_pred,average='macro'),5),round(recall_score(y_test,y_pred,average='macro'),5)])\n"
      ],
      "metadata": {
        "id": "xXBbJfy6CTDz"
      },
      "execution_count": 951,
      "outputs": []
    },
    {
      "cell_type": "markdown",
      "source": [
        "### Polinomial SVM"
      ],
      "metadata": {
        "id": "mS_VNIwQ7nve"
      }
    },
    {
      "cell_type": "code",
      "source": [
        "svm_poly=SVC(kernel='poly', degree=3)"
      ],
      "metadata": {
        "id": "DEKgY-EC7X7F"
      },
      "execution_count": 952,
      "outputs": []
    },
    {
      "cell_type": "code",
      "source": [
        "svm_poly.fit(X_train, y_train)"
      ],
      "metadata": {
        "colab": {
          "base_uri": "https://localhost:8080/"
        },
        "id": "AKTUd1pV7qu7",
        "outputId": "8cf45bfb-7cdd-4d76-b10e-49ad7b151395"
      },
      "execution_count": 953,
      "outputs": [
        {
          "output_type": "execute_result",
          "data": {
            "text/plain": [
              "SVC(kernel='poly')"
            ]
          },
          "metadata": {},
          "execution_count": 953
        }
      ]
    },
    {
      "cell_type": "code",
      "source": [
        "y_pred=svm_linear.predict(X_test)"
      ],
      "metadata": {
        "id": "Mb1EEc9-7shR"
      },
      "execution_count": 954,
      "outputs": []
    },
    {
      "cell_type": "code",
      "source": [
        "print(\"accuracy is :\",accuracy_score(y_test,y_pred))\n",
        "print(\"precision is :\",precision_score(y_test,y_pred,average='macro'))\n",
        "print(\"recall is :\",recall_score(y_test,y_pred,average='macro'))\n",
        "print(\"F1 score is :\",f1_score(y_test,y_pred,average='macro'))"
      ],
      "metadata": {
        "colab": {
          "base_uri": "https://localhost:8080/"
        },
        "id": "O4xCk0H97uiB",
        "outputId": "9b1c9b61-bd74-4716-9aea-de1038c69fbc"
      },
      "execution_count": 955,
      "outputs": [
        {
          "output_type": "stream",
          "name": "stdout",
          "text": [
            "accuracy is : 0.972972972972973\n",
            "precision is : 0.9777777777777779\n",
            "recall is : 0.9629629629629629\n",
            "F1 score is : 0.9688979039891819\n"
          ]
        }
      ]
    },
    {
      "cell_type": "code",
      "source": [
        "t.append(['polynomial svm',round(f1_score(y_test,y_pred,average='macro'),5),round(accuracy_score(y_test,y_pred),5),round(precision_score(y_test,y_pred,average='macro'),5),round(recall_score(y_test,y_pred,average='macro'),5)])\n"
      ],
      "metadata": {
        "id": "MTIPCiBQCYHV"
      },
      "execution_count": 956,
      "outputs": []
    },
    {
      "cell_type": "markdown",
      "source": [
        "### Radial SVM"
      ],
      "metadata": {
        "id": "lklim1PB70Bi"
      }
    },
    {
      "cell_type": "code",
      "source": [
        "svm_radial=SVC(kernel='rbf')\n",
        "svm_radial.fit(X_train, y_train)"
      ],
      "metadata": {
        "colab": {
          "base_uri": "https://localhost:8080/"
        },
        "id": "-75Vo_927wnA",
        "outputId": "6503126b-dd8b-4bf4-85a6-4bfe27f97a38"
      },
      "execution_count": 957,
      "outputs": [
        {
          "output_type": "execute_result",
          "data": {
            "text/plain": [
              "SVC()"
            ]
          },
          "metadata": {},
          "execution_count": 957
        }
      ]
    },
    {
      "cell_type": "code",
      "source": [
        "y_pred=svm_linear.predict(X_test)\n",
        "print(\"accuracy is :\",accuracy_score(y_test,y_pred))\n",
        "print(\"precision is :\",precision_score(y_test,y_pred,average='macro'))\n",
        "print(\"recall is :\",recall_score(y_test,y_pred,average='macro'))\n",
        "print(\"F1 score is :\",f1_score(y_test,y_pred,average='macro'))"
      ],
      "metadata": {
        "colab": {
          "base_uri": "https://localhost:8080/"
        },
        "id": "SmAuSk1V73zM",
        "outputId": "da52132a-d0b9-48f8-f288-f1c8636a3a4b"
      },
      "execution_count": 958,
      "outputs": [
        {
          "output_type": "stream",
          "name": "stdout",
          "text": [
            "accuracy is : 0.972972972972973\n",
            "precision is : 0.9777777777777779\n",
            "recall is : 0.9629629629629629\n",
            "F1 score is : 0.9688979039891819\n"
          ]
        }
      ]
    },
    {
      "cell_type": "code",
      "source": [
        "t.append(['Radial SVM',round(f1_score(y_test,y_pred,average='macro'),5),round(accuracy_score(y_test,y_pred),5),round(precision_score(y_test,y_pred,average='macro'),5),round(recall_score(y_test,y_pred,average='macro'),5)])\n"
      ],
      "metadata": {
        "id": "CGP2r8YmCc8q"
      },
      "execution_count": 959,
      "outputs": []
    },
    {
      "cell_type": "markdown",
      "source": [
        "##Random Forest"
      ],
      "metadata": {
        "id": "jX1NPIyk99yI"
      }
    },
    {
      "cell_type": "code",
      "source": [
        "from sklearn.ensemble import RandomForestClassifier\n",
        "rf=RandomForestClassifier()\n",
        "rf.fit(X_train,y_train)\n",
        "y_pred=rf.predict(X_test)"
      ],
      "metadata": {
        "id": "Iy-XqfKT77f-"
      },
      "execution_count": 960,
      "outputs": []
    },
    {
      "cell_type": "code",
      "source": [
        "print(\"accuracy is :\",accuracy_score(y_test,y_pred))\n",
        "print(\"precision is :\",precision_score(y_test,y_pred,average='macro'))\n",
        "print(\"recall is :\",recall_score(y_test,y_pred,average='macro'))\n",
        "print(\"F1 score is :\",f1_score(y_test,y_pred,average='macro'))"
      ],
      "metadata": {
        "colab": {
          "base_uri": "https://localhost:8080/"
        },
        "id": "vZ9ZgqHs-Jui",
        "outputId": "48e19955-4cca-4559-d20b-a1e18c4ac604"
      },
      "execution_count": 961,
      "outputs": [
        {
          "output_type": "stream",
          "name": "stdout",
          "text": [
            "accuracy is : 0.972972972972973\n",
            "precision is : 0.9777777777777779\n",
            "recall is : 0.9629629629629629\n",
            "F1 score is : 0.9688979039891819\n"
          ]
        }
      ]
    },
    {
      "cell_type": "code",
      "source": [
        "t.append(['Random Forest',round(f1_score(y_test,y_pred,average='macro'),5),round(accuracy_score(y_test,y_pred),5),round(precision_score(y_test,y_pred,average='macro'),5),round(recall_score(y_test,y_pred,average='macro'),5)])\n"
      ],
      "metadata": {
        "id": "wsx0w4qUBfoa"
      },
      "execution_count": 962,
      "outputs": []
    },
    {
      "cell_type": "code",
      "source": [
        "#Gradient Booster\n",
        "from sklearn.ensemble import GradientBoostingClassifier\n",
        "gm=GradientBoostingClassifier()\n",
        "gm.fit(X_train,y_train)\n",
        "y_pred=gm.predict(X_test)"
      ],
      "metadata": {
        "id": "4f9HM4BOB9X_"
      },
      "execution_count": 963,
      "outputs": []
    },
    {
      "cell_type": "code",
      "source": [
        "print(\"accuracy is :\",accuracy_score(y_test,y_pred))\n",
        "print(\"precision is :\",precision_score(y_test,y_pred,average='macro'))\n",
        "print(\"recall is :\",recall_score(y_test,y_pred,average='macro'))\n",
        "print(\"F1 score is :\",f1_score(y_test,y_pred,average='macro'))"
      ],
      "metadata": {
        "colab": {
          "base_uri": "https://localhost:8080/"
        },
        "id": "nDJEd3FICEOF",
        "outputId": "5ce0e671-f28f-40c9-81b9-0e25b8725a81"
      },
      "execution_count": 964,
      "outputs": [
        {
          "output_type": "stream",
          "name": "stdout",
          "text": [
            "accuracy is : 0.972972972972973\n",
            "precision is : 0.9666666666666667\n",
            "recall is : 0.9761904761904763\n",
            "F1 score is : 0.9701104613385315\n"
          ]
        }
      ]
    },
    {
      "cell_type": "code",
      "source": [
        "t.append(['Gradient Booster',round(f1_score(y_test,y_pred,average='macro'),5),round(accuracy_score(y_test,y_pred),5),round(precision_score(y_test,y_pred,average='macro'),5),round(recall_score(y_test,y_pred,average='macro'),5)])\n"
      ],
      "metadata": {
        "id": "60bM8oo3CI14"
      },
      "execution_count": 965,
      "outputs": []
    },
    {
      "cell_type": "code",
      "source": [
        "#Extreme Gradient Booster\n",
        "from xgboost import XGBClassifier\n",
        "xgb=XGBClassifier()\n",
        "xgb.fit(X_train,y_train)\n",
        "y_pred=xgb.predict(X_test)"
      ],
      "metadata": {
        "id": "63xB7c1s-NEd"
      },
      "execution_count": 966,
      "outputs": []
    },
    {
      "cell_type": "code",
      "source": [
        "print(\"accuracy is :\",accuracy_score(y_test,y_pred))\n",
        "print(\"precision is :\",precision_score(y_test,y_pred,average='macro'))\n",
        "print(\"recall is :\",recall_score(y_test,y_pred,average='macro'))\n",
        "print(\"F1 score is :\",f1_score(y_test,y_pred,average='macro'))"
      ],
      "metadata": {
        "colab": {
          "base_uri": "https://localhost:8080/"
        },
        "id": "sWKkdAdc_Kfa",
        "outputId": "d6497aa5-39b1-4030-cee3-9056ec9da760"
      },
      "execution_count": 967,
      "outputs": [
        {
          "output_type": "stream",
          "name": "stdout",
          "text": [
            "accuracy is : 0.9459459459459459\n",
            "precision is : 0.9391534391534391\n",
            "recall is : 0.9391534391534391\n",
            "F1 score is : 0.9391534391534391\n"
          ]
        }
      ]
    },
    {
      "cell_type": "code",
      "source": [
        "t.append(['Extreme Gradient Booster',round(f1_score(y_test,y_pred,average='macro'),5),round(accuracy_score(y_test,y_pred),5),round(precision_score(y_test,y_pred,average='macro'),5),round(recall_score(y_test,y_pred,average='macro'),5)])\n"
      ],
      "metadata": {
        "id": "WxB_wAFABYai"
      },
      "execution_count": 968,
      "outputs": []
    },
    {
      "cell_type": "code",
      "source": [
        "df = pd.DataFrame(t, columns = ['Algorithms', 'F1-Score','accuracy','precision','recall'])\n",
        "df"
      ],
      "metadata": {
        "colab": {
          "base_uri": "https://localhost:8080/",
          "height": 300
        },
        "id": "dJikIvjnAFas",
        "outputId": "7a5f6b06-1a53-479c-9892-046bb9ea6629"
      },
      "execution_count": 969,
      "outputs": [
        {
          "output_type": "execute_result",
          "data": {
            "text/html": [
              "\n",
              "  <div id=\"df-d045983d-8667-48e2-912b-130fb45c8f27\">\n",
              "    <div class=\"colab-df-container\">\n",
              "      <div>\n",
              "<style scoped>\n",
              "    .dataframe tbody tr th:only-of-type {\n",
              "        vertical-align: middle;\n",
              "    }\n",
              "\n",
              "    .dataframe tbody tr th {\n",
              "        vertical-align: top;\n",
              "    }\n",
              "\n",
              "    .dataframe thead th {\n",
              "        text-align: right;\n",
              "    }\n",
              "</style>\n",
              "<table border=\"1\" class=\"dataframe\">\n",
              "  <thead>\n",
              "    <tr style=\"text-align: right;\">\n",
              "      <th></th>\n",
              "      <th>Algorithms</th>\n",
              "      <th>F1-Score</th>\n",
              "      <th>accuracy</th>\n",
              "      <th>precision</th>\n",
              "      <th>recall</th>\n",
              "    </tr>\n",
              "  </thead>\n",
              "  <tbody>\n",
              "    <tr>\n",
              "      <th>0</th>\n",
              "      <td>Logistic Regression</td>\n",
              "      <td>0.93915</td>\n",
              "      <td>0.94595</td>\n",
              "      <td>0.93915</td>\n",
              "      <td>0.93915</td>\n",
              "    </tr>\n",
              "    <tr>\n",
              "      <th>1</th>\n",
              "      <td>KNN</td>\n",
              "      <td>0.91033</td>\n",
              "      <td>0.91892</td>\n",
              "      <td>0.90769</td>\n",
              "      <td>0.91534</td>\n",
              "    </tr>\n",
              "    <tr>\n",
              "      <th>2</th>\n",
              "      <td>SVM</td>\n",
              "      <td>0.96890</td>\n",
              "      <td>0.97297</td>\n",
              "      <td>0.97778</td>\n",
              "      <td>0.96296</td>\n",
              "    </tr>\n",
              "    <tr>\n",
              "      <th>3</th>\n",
              "      <td>polynomial svm</td>\n",
              "      <td>0.96890</td>\n",
              "      <td>0.97297</td>\n",
              "      <td>0.97778</td>\n",
              "      <td>0.96296</td>\n",
              "    </tr>\n",
              "    <tr>\n",
              "      <th>4</th>\n",
              "      <td>Radial SVM</td>\n",
              "      <td>0.96890</td>\n",
              "      <td>0.97297</td>\n",
              "      <td>0.97778</td>\n",
              "      <td>0.96296</td>\n",
              "    </tr>\n",
              "    <tr>\n",
              "      <th>5</th>\n",
              "      <td>Random Forest</td>\n",
              "      <td>0.96890</td>\n",
              "      <td>0.97297</td>\n",
              "      <td>0.97778</td>\n",
              "      <td>0.96296</td>\n",
              "    </tr>\n",
              "    <tr>\n",
              "      <th>6</th>\n",
              "      <td>Gradient Booster</td>\n",
              "      <td>0.97011</td>\n",
              "      <td>0.97297</td>\n",
              "      <td>0.96667</td>\n",
              "      <td>0.97619</td>\n",
              "    </tr>\n",
              "    <tr>\n",
              "      <th>7</th>\n",
              "      <td>Extreme Gradient Booster</td>\n",
              "      <td>0.93915</td>\n",
              "      <td>0.94595</td>\n",
              "      <td>0.93915</td>\n",
              "      <td>0.93915</td>\n",
              "    </tr>\n",
              "  </tbody>\n",
              "</table>\n",
              "</div>\n",
              "      <button class=\"colab-df-convert\" onclick=\"convertToInteractive('df-d045983d-8667-48e2-912b-130fb45c8f27')\"\n",
              "              title=\"Convert this dataframe to an interactive table.\"\n",
              "              style=\"display:none;\">\n",
              "        \n",
              "  <svg xmlns=\"http://www.w3.org/2000/svg\" height=\"24px\"viewBox=\"0 0 24 24\"\n",
              "       width=\"24px\">\n",
              "    <path d=\"M0 0h24v24H0V0z\" fill=\"none\"/>\n",
              "    <path d=\"M18.56 5.44l.94 2.06.94-2.06 2.06-.94-2.06-.94-.94-2.06-.94 2.06-2.06.94zm-11 1L8.5 8.5l.94-2.06 2.06-.94-2.06-.94L8.5 2.5l-.94 2.06-2.06.94zm10 10l.94 2.06.94-2.06 2.06-.94-2.06-.94-.94-2.06-.94 2.06-2.06.94z\"/><path d=\"M17.41 7.96l-1.37-1.37c-.4-.4-.92-.59-1.43-.59-.52 0-1.04.2-1.43.59L10.3 9.45l-7.72 7.72c-.78.78-.78 2.05 0 2.83L4 21.41c.39.39.9.59 1.41.59.51 0 1.02-.2 1.41-.59l7.78-7.78 2.81-2.81c.8-.78.8-2.07 0-2.86zM5.41 20L4 18.59l7.72-7.72 1.47 1.35L5.41 20z\"/>\n",
              "  </svg>\n",
              "      </button>\n",
              "      \n",
              "  <style>\n",
              "    .colab-df-container {\n",
              "      display:flex;\n",
              "      flex-wrap:wrap;\n",
              "      gap: 12px;\n",
              "    }\n",
              "\n",
              "    .colab-df-convert {\n",
              "      background-color: #E8F0FE;\n",
              "      border: none;\n",
              "      border-radius: 50%;\n",
              "      cursor: pointer;\n",
              "      display: none;\n",
              "      fill: #1967D2;\n",
              "      height: 32px;\n",
              "      padding: 0 0 0 0;\n",
              "      width: 32px;\n",
              "    }\n",
              "\n",
              "    .colab-df-convert:hover {\n",
              "      background-color: #E2EBFA;\n",
              "      box-shadow: 0px 1px 2px rgba(60, 64, 67, 0.3), 0px 1px 3px 1px rgba(60, 64, 67, 0.15);\n",
              "      fill: #174EA6;\n",
              "    }\n",
              "\n",
              "    [theme=dark] .colab-df-convert {\n",
              "      background-color: #3B4455;\n",
              "      fill: #D2E3FC;\n",
              "    }\n",
              "\n",
              "    [theme=dark] .colab-df-convert:hover {\n",
              "      background-color: #434B5C;\n",
              "      box-shadow: 0px 1px 3px 1px rgba(0, 0, 0, 0.15);\n",
              "      filter: drop-shadow(0px 1px 2px rgba(0, 0, 0, 0.3));\n",
              "      fill: #FFFFFF;\n",
              "    }\n",
              "  </style>\n",
              "\n",
              "      <script>\n",
              "        const buttonEl =\n",
              "          document.querySelector('#df-d045983d-8667-48e2-912b-130fb45c8f27 button.colab-df-convert');\n",
              "        buttonEl.style.display =\n",
              "          google.colab.kernel.accessAllowed ? 'block' : 'none';\n",
              "\n",
              "        async function convertToInteractive(key) {\n",
              "          const element = document.querySelector('#df-d045983d-8667-48e2-912b-130fb45c8f27');\n",
              "          const dataTable =\n",
              "            await google.colab.kernel.invokeFunction('convertToInteractive',\n",
              "                                                     [key], {});\n",
              "          if (!dataTable) return;\n",
              "\n",
              "          const docLinkHtml = 'Like what you see? Visit the ' +\n",
              "            '<a target=\"_blank\" href=https://colab.research.google.com/notebooks/data_table.ipynb>data table notebook</a>'\n",
              "            + ' to learn more about interactive tables.';\n",
              "          element.innerHTML = '';\n",
              "          dataTable['output_type'] = 'display_data';\n",
              "          await google.colab.output.renderOutput(dataTable, element);\n",
              "          const docLink = document.createElement('div');\n",
              "          docLink.innerHTML = docLinkHtml;\n",
              "          element.appendChild(docLink);\n",
              "        }\n",
              "      </script>\n",
              "    </div>\n",
              "  </div>\n",
              "  "
            ],
            "text/plain": [
              "                 Algorithms  F1-Score  accuracy  precision   recall\n",
              "0       Logistic Regression   0.93915   0.94595    0.93915  0.93915\n",
              "1                       KNN   0.91033   0.91892    0.90769  0.91534\n",
              "2                       SVM   0.96890   0.97297    0.97778  0.96296\n",
              "3            polynomial svm   0.96890   0.97297    0.97778  0.96296\n",
              "4                Radial SVM   0.96890   0.97297    0.97778  0.96296\n",
              "5             Random Forest   0.96890   0.97297    0.97778  0.96296\n",
              "6          Gradient Booster   0.97011   0.97297    0.96667  0.97619\n",
              "7  Extreme Gradient Booster   0.93915   0.94595    0.93915  0.93915"
            ]
          },
          "metadata": {},
          "execution_count": 969
        }
      ]
    },
    {
      "cell_type": "markdown",
      "source": [
        "####From the table, we can see that Gradient Booster has highest F1 score (0.97011) and accuracy(0.97297) than other algorithms."
      ],
      "metadata": {
        "id": "pvN4EHaxHHi2"
      }
    },
    {
      "cell_type": "code",
      "source": [
        ""
      ],
      "metadata": {
        "id": "MhmrFSb7JCtg"
      },
      "execution_count": null,
      "outputs": []
    }
  ]
}